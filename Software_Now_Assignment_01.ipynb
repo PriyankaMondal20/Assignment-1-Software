{
  "nbformat": 4,
  "nbformat_minor": 0,
  "metadata": {
    "colab": {
      "provenance": []
    },
    "kernelspec": {
      "name": "python3",
      "display_name": "Python 3"
    },
    "language_info": {
      "name": "python"
    }
  },
  "cells": [
    {
      "cell_type": "code",
      "execution_count": 2,
      "metadata": {
        "colab": {
          "base_uri": "https://localhost:8080/"
        },
        "id": "OtwW9rk_8MDV",
        "outputId": "4d797703-afba-4cbf-e77e-d8b7cdbf652e"
      },
      "outputs": [
        {
          "output_type": "stream",
          "name": "stdout",
          "text": [
            "Enter the size of the square: 4\n",
            "* * * * \n",
            "* * * * \n",
            "* * * * \n",
            "* * * * \n"
          ]
        }
      ],
      "source": [
        "def draw_square(size):\n",
        "    if size <= 0:\n",
        "        print(\"Please enter a positive number for the size.\")\n",
        "        return\n",
        "\n",
        "    for i in range(size):\n",
        "        for j in range(size):\n",
        "            print(\"*\", end=\" \")\n",
        "        print()\n",
        "\n",
        "size = int(input(\"Enter the size of the square: \"))\n",
        "draw_square(size)"
      ]
    },
    {
      "cell_type": "code",
      "source": [
        "def is_triangle(a, b, c):\n",
        "    if a + b > c and b + c > a and a + c > b:\n",
        "        return True\n",
        "    return False\n",
        "\n",
        "a = float(input(\"User input 1: \"))\n",
        "b = float(input(\"User input 2: \"))\n",
        "c = float(input(\"User input 3: \"))\n",
        "\n",
        "if is_triangle(a, b, c):\n",
        "  print(\"Output: Yes, these three lengths can form a triangle.\")\n",
        "else:\n",
        "  print(\"Output: NO, these three lengths CANNOT form a triangle.\")"
      ],
      "metadata": {
        "colab": {
          "base_uri": "https://localhost:8080/"
        },
        "id": "dEPJl_pC9UF7",
        "outputId": "2377f8fb-0764-416e-885a-06bd021fd25a"
      },
      "execution_count": 5,
      "outputs": [
        {
          "output_type": "stream",
          "name": "stdout",
          "text": [
            "User input 1: 8\n",
            "User input 2: 7\n",
            "User input 3: 9\n",
            "Output: Yes, these three lengths can form a triangle.\n"
          ]
        }
      ]
    }
  ]
}